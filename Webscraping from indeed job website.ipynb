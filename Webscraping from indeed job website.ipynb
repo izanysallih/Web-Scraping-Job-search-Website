{
 "cells": [
  {
   "cell_type": "code",
   "execution_count": 9,
   "id": "02a250ec",
   "metadata": {},
   "outputs": [],
   "source": [
    "import requests\n",
    "from bs4 import BeautifulSoup"
   ]
  },
  {
   "cell_type": "code",
   "execution_count": 10,
   "id": "458b8ee8",
   "metadata": {},
   "outputs": [],
   "source": [
    "# set the URL of website to scrape and gets the HTML script using requests.get \n",
    "\n",
    "URL = 'https://au.indeed.com/jobs?q=engineer&l=australia'\n",
    "page = requests.get(URL)\n",
    "\n",
    "# print(page.text)"
   ]
  },
  {
   "cell_type": "code",
   "execution_count": 11,
   "id": "ae71bb68",
   "metadata": {},
   "outputs": [],
   "source": [
    "# converts the HTML script we scraped into BeautifulSoup object, which can be then conveniently parsed\n",
    "\n",
    "soup = BeautifulSoup(page.content, 'html.parser')"
   ]
  },
  {
   "cell_type": "code",
   "execution_count": 12,
   "id": "688db2b4",
   "metadata": {},
   "outputs": [],
   "source": [
    "# narrow down the BeautifulSoup object by selecting the relevant 'id' (which is unique) containing the wanted info\n",
    "\n",
    "results = soup.find(id='mosaic-zone-jobcards')"
   ]
  },
  {
   "cell_type": "code",
   "execution_count": 13,
   "id": "249461a9",
   "metadata": {},
   "outputs": [],
   "source": [
    "# print(results.prettify())"
   ]
  },
  {
   "cell_type": "code",
   "execution_count": 14,
   "id": "a10e7adb",
   "metadata": {},
   "outputs": [],
   "source": [
    "# finds 'div' with 'class' = \"slider_container\" cause this is the 'div' containing all job listings\n",
    "\n",
    "job_elements = results.find_all('div', class_='slider_container')"
   ]
  },
  {
   "cell_type": "code",
   "execution_count": 15,
   "id": "6921628b",
   "metadata": {},
   "outputs": [],
   "source": [
    "# for job_element in job_elements:\n",
    "#   print(job_element.prettify(), end='\\n'*2)"
   ]
  },
  {
   "cell_type": "code",
   "execution_count": 16,
   "id": "084a103d",
   "metadata": {},
   "outputs": [
    {
     "name": "stdout",
     "output_type": "stream",
     "text": [
      "Job Title: Graduate Site Engineer\n",
      "Company: SEE Civil\n",
      "Location: Chinderah NSW\n",
      "Job Description: This is a full-time role reporting to the Project Engineer, where you will be assisting the project management team with administration, planning and scheduling…\n",
      "\n",
      "Job Title: Project Engineer / Graduate Engineer\n",
      "Company: Brewarrina Shire Council\n",
      "Location: Remote in Brewarrina NSW 2839\n",
      "Job Description: The work involves day to day construction supervision, contract management, assets management and civil design work, involving three major work sites and remote…\n",
      "\n",
      "Job Title: Graduate Engineer - Rail\n",
      "Company: SMEC\n",
      "Location: Brisbane QLD\n",
      "Job Description: Join the SMEC Graduate Development Program.\n",
      "\n",
      "Job Title: Works Engineer\n",
      "Company: Orange City Council\n",
      "Location: Orange NSW\n",
      "Job Description: We are currently seeking a Works Engineer to the assist the Manager Works with delivery of civil maintenance and construction works primarily in the areas of…\n",
      "\n",
      "Job Title: Graduate Engineer (2023 Ignite Graduate Intake)\n",
      "Company: Symal Infrastructure\n",
      "Location: Melbourne VIC\n",
      "Job Description: As a Graduate Site Engineer, you will assist managing and coordinating projects efficiently, safely and profitably but supporting the project team with the…\n",
      "\n",
      "Job Title: Graduate Engineer (Electrical)\n",
      "Company: JMD Railtech\n",
      "Location: Australia\n",
      "Job Description: View all JMD Railtech jobs - Australia jobs\n",
      "\n",
      "Job Title: Field Engineer Trainee\n",
      "Company: Schlumberger\n",
      "Location: Moomba SA\n",
      "Job Description: The Field Engineer Trainee is responsible for maintaining safe, efficient, and reliable PSD to Customers.\n",
      "\n",
      "Job Title: Graduate ITS Engineer\n",
      "Company: Transurban\n",
      "Location: Sydney NSW\n",
      "Job Description: They integrate roadside systems with data analytics, develop intuitive payment apps and embrace the latest cloud thinking.\n",
      "\n",
      "Job Title: Junior Engineer\n",
      "Company: Service Stream\n",
      "Location: Melbourne VIC+1 location\n",
      "Job Description: Nature of position: *Permanent, Full Time.\n",
      "\n",
      "Job Title: Undergraduate Civil Design Engineer\n",
      "Company: Sutherland Shire Council\n",
      "Location: Sutherland NSW\n",
      "Job Description: Working proactively to complete your degree.\n",
      "\n",
      "Job Title: Cadet Engineer\n",
      "Company: Kiama Municipal Council\n",
      "Location: Kiama NSW\n",
      "Job Description: As Cadet Engineer you will assist the Manager Design and Development to design civil engineering works and assess engineering aspects of development…\n",
      "\n",
      "Job Title: Expressions of Interest - Graduate Civil Engineer\n",
      "Company: Georgiou\n",
      "Location: Sydney NSW\n",
      "Job Description: As a Graduate Engineer, you’ll provide on-site engineering services to assist in the achievement of project objectives.\n",
      "\n",
      "Job Title: Graduate Engineer\n",
      "Company: Martinus Rail\n",
      "Location: Bankstown NSW\n",
      "Job Description: Martinus are seeking Graduate Engineers who are eager to gain experience in the rail industry.\n",
      "\n",
      "Job Title: Design Engineer\n",
      "Company: Warrnambool City Council\n",
      "Location: Warrnambool VIC 3280\n",
      "Job Description: Warrnambool City Council is seeking an experienced Design Engineer with a strong background in Design, Asset Management, Road Safety and Development to join the…\n",
      "\n",
      "Job Title: Junior/Site Engineer\n",
      "Company: John Holland\n",
      "Location: Milsons Point NSW 2061\n",
      "Job Description: We are interested in hearing from Junior/Site Engineers ideally with some experience on a major infrastructure project with exposure to design, construction and…\n",
      "\n"
     ]
    }
   ],
   "source": [
    "# prints the elements (title, company, location) in each job_element\n",
    "\n",
    "for job_element in job_elements:\n",
    "    title = job_element.find(lambda tag: tag.name=='span' and 'title' in tag.attrs)   # finds tag \"span\" with \"title\" in it\n",
    "    company = job_element.find('span', class_='companyName')\n",
    "    location = job_element.find('div', class_='companyLocation')\n",
    "    job_scope = job_element.find('li')\n",
    "    print('Job Title:',title.text)\n",
    "    print('Company:',company.text)\n",
    "    print('Location:',location.text)\n",
    "    print('Job Description:',job_scope.text)\n",
    "    print()"
   ]
  },
  {
   "cell_type": "code",
   "execution_count": null,
   "id": "2eb87f13",
   "metadata": {},
   "outputs": [],
   "source": []
  }
 ],
 "metadata": {
  "kernelspec": {
   "display_name": "Python 3",
   "language": "python",
   "name": "python3"
  },
  "language_info": {
   "codemirror_mode": {
    "name": "ipython",
    "version": 3
   },
   "file_extension": ".py",
   "mimetype": "text/x-python",
   "name": "python",
   "nbconvert_exporter": "python",
   "pygments_lexer": "ipython3",
   "version": "3.8.8"
  }
 },
 "nbformat": 4,
 "nbformat_minor": 5
}
